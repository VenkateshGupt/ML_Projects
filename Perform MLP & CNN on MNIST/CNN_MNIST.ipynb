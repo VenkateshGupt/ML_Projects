{
 "cells": [
  {
   "cell_type": "markdown",
   "metadata": {},
   "source": [
    "# CNN"
   ]
  },
  {
   "cell_type": "markdown",
   "metadata": {},
   "source": [
    "## 784 - [24C5-P2] - [48C5-P2] - [64C5-P2] - 256 - 10 "
   ]
  },
  {
   "cell_type": "code",
   "execution_count": 5,
   "metadata": {},
   "outputs": [
    {
     "name": "stdout",
     "output_type": "stream",
     "text": [
      "x_train shape: (60000, 28, 28, 1)\n",
      "60000 train samples\n",
      "10000 test samples\n",
      "Train on 60000 samples, validate on 10000 samples\n",
      "Epoch 1/15\n",
      "60000/60000 [==============================] - 45s 749us/step - loss: 0.3636 - acc: 0.8802 - val_loss: 0.0762 - val_acc: 0.9746\n",
      "Epoch 2/15\n",
      "60000/60000 [==============================] - 44s 731us/step - loss: 0.0641 - acc: 0.9803 - val_loss: 0.0543 - val_acc: 0.9810\n",
      "Epoch 3/15\n",
      "60000/60000 [==============================] - 45s 747us/step - loss: 0.0430 - acc: 0.9874 - val_loss: 0.0263 - val_acc: 0.9908\n",
      "Epoch 4/15\n",
      "60000/60000 [==============================] - 43s 718us/step - loss: 0.0325 - acc: 0.9904 - val_loss: 0.0512 - val_acc: 0.9848\n",
      "Epoch 5/15\n",
      "60000/60000 [==============================] - 43s 721us/step - loss: 0.0264 - acc: 0.9924 - val_loss: 0.0222 - val_acc: 0.9924\n",
      "Epoch 6/15\n",
      "60000/60000 [==============================] - 43s 720us/step - loss: 0.0221 - acc: 0.9935 - val_loss: 0.0236 - val_acc: 0.9928\n",
      "Epoch 7/15\n",
      "60000/60000 [==============================] - 43s 716us/step - loss: 0.0171 - acc: 0.9950 - val_loss: 0.0300 - val_acc: 0.9913\n",
      "Epoch 8/15\n",
      "60000/60000 [==============================] - 43s 718us/step - loss: 0.0163 - acc: 0.9951 - val_loss: 0.0262 - val_acc: 0.9919\n",
      "Epoch 9/15\n",
      "60000/60000 [==============================] - 43s 723us/step - loss: 0.0123 - acc: 0.9963 - val_loss: 0.0264 - val_acc: 0.9921\n",
      "Epoch 10/15\n",
      "60000/60000 [==============================] - 44s 725us/step - loss: 0.0104 - acc: 0.9967 - val_loss: 0.0283 - val_acc: 0.9927\n",
      "Epoch 11/15\n",
      "60000/60000 [==============================] - 44s 731us/step - loss: 0.0088 - acc: 0.9974 - val_loss: 0.0316 - val_acc: 0.9914\n",
      "Epoch 12/15\n",
      "60000/60000 [==============================] - 44s 735us/step - loss: 0.0081 - acc: 0.9977 - val_loss: 0.0274 - val_acc: 0.9923\n",
      "Epoch 13/15\n",
      "60000/60000 [==============================] - 44s 739us/step - loss: 0.0062 - acc: 0.9980 - val_loss: 0.0331 - val_acc: 0.9920\n",
      "Epoch 14/15\n",
      "60000/60000 [==============================] - 44s 735us/step - loss: 0.0060 - acc: 0.9982 - val_loss: 0.0305 - val_acc: 0.9930\n",
      "Epoch 15/15\n",
      "60000/60000 [==============================] - 44s 731us/step - loss: 0.0051 - acc: 0.9985 - val_loss: 0.0305 - val_acc: 0.9930\n"
     ]
    }
   ],
   "source": [
    "# Credits: https://github.com/keras-team/keras/blob/master/examples/mnist_cnn.py\n",
    "\n",
    "from __future__ import print_function\n",
    "import keras\n",
    "from keras.datasets import mnist\n",
    "from keras.models import Sequential\n",
    "from keras.layers import Dense, Dropout, Flatten\n",
    "from keras.layers import Conv2D, MaxPooling2D\n",
    "from keras import backend as K\n",
    "\n",
    "batch_size = 128\n",
    "num_classes = 10\n",
    "epochs = 15\n",
    "\n",
    "# input image dimensions\n",
    "img_rows, img_cols = 28, 28\n",
    "\n",
    "# the data, split between train and test sets\n",
    "(x_train, y_train), (x_test, y_test) = mnist.load_data()\n",
    "\n",
    "if K.image_data_format() == 'channels_first':\n",
    "    x_train = x_train.reshape(x_train.shape[0], 1, img_rows, img_cols)\n",
    "    x_test = x_test.reshape(x_test.shape[0], 1, img_rows, img_cols)\n",
    "    input_shape = (1, img_rows, img_cols)\n",
    "else:\n",
    "    x_train = x_train.reshape(x_train.shape[0], img_rows, img_cols, 1)\n",
    "    x_test = x_test.reshape(x_test.shape[0], img_rows, img_cols, 1)\n",
    "    input_shape = (img_rows, img_cols, 1)\n",
    "\n",
    "x_train = x_train.astype('float32')\n",
    "x_test = x_test.astype('float32')\n",
    "x_train /= 255\n",
    "x_test /= 255\n",
    "print('x_train shape:', x_train.shape)\n",
    "print(x_train.shape[0], 'train samples')\n",
    "print(x_test.shape[0], 'test samples')\n",
    "\n",
    "# convert class vectors to binary class matrices\n",
    "y_train = keras.utils.to_categorical(y_train, num_classes)\n",
    "y_test = keras.utils.to_categorical(y_test, num_classes)\n",
    "\n",
    "model = Sequential()\n",
    "model.add(Conv2D(24,kernel_size=5,padding='same',activation='relu',\n",
    "                 input_shape=input_shape))\n",
    "model.add(MaxPooling2D(pool_size=(3, 3)))\n",
    "model.add(Conv2D(48,kernel_size=5,padding='same',activation='relu'))\n",
    "model.add(MaxPooling2D(pool_size=(3, 3)))\n",
    "model.add(Conv2D(64,kernel_size=5,padding='same',activation='relu'))\n",
    "model.add(MaxPooling2D(pool_size=(3, 3)))\n",
    "model.add(Flatten())\n",
    "model.add(Dense(256, activation='relu'))\n",
    "model.add(Dropout(0.5))\n",
    "model.add(Dense(num_classes, activation='softmax'))\n",
    "\n",
    "model.compile(loss=keras.losses.categorical_crossentropy,\n",
    "              optimizer=keras.optimizers.Adadelta(),\n",
    "              metrics=['accuracy'])\n",
    "\n",
    "history = model.fit(x_train, y_train,\n",
    "          batch_size=batch_size,\n",
    "          epochs=epochs,\n",
    "          verbose=1,\n",
    "          validation_data=(x_test, y_test))"
   ]
  },
  {
   "cell_type": "code",
   "execution_count": 7,
   "metadata": {},
   "outputs": [],
   "source": [
    "def plt_dynamic(x, vy, ty, ax, colors=['b']):\n",
    "    ax.plot(x, vy, 'b', label=\"Validation Loss\")\n",
    "    ax.plot(x, ty, 'r', label=\"Train Loss\")\n",
    "    plt.legend()\n",
    "    plt.grid()\n",
    "    fig.canvas.draw()"
   ]
  },
  {
   "cell_type": "code",
   "execution_count": 9,
   "metadata": {},
   "outputs": [
    {
     "name": "stdout",
     "output_type": "stream",
     "text": [
      "Test score: 0.030540206985773057\n",
      "Test accuracy: 0.993\n"
     ]
    },
    {
     "data": {
      "image/png": "[encoded data removed]",
      "text/plain": [
       "<Figure size 432x288 with 1 Axes>"
      ]
     },
     "metadata": {},
     "output_type": "display_data"
    }
   ],
   "source": [
    "import matplotlib.pyplot as plt\n",
    "score = model.evaluate(x_test, y_test, verbose=0) \n",
    "print('Test score:', score[0]) \n",
    "print('Test accuracy:', score[1])\n",
    "\n",
    "fig,ax = plt.subplots(1,1)\n",
    "ax.set_xlabel('epoch') ; ax.set_ylabel('Categorical Crossentropy Loss')\n",
    "\n",
    "# list of epoch numbers\n",
    "x = list(range(1,epochs+1))\n",
    "\n",
    "# print(history.history.keys())\n",
    "# dict_keys(['val_loss', 'val_acc', 'loss', 'acc'])\n",
    "# history = model_drop.fit(X_train, Y_train, batch_size=batch_size, epochs=nb_epoch, verbose=1, validation_data=(X_test, Y_test))\n",
    "\n",
    "# we will get val_loss and val_acc only when you pass the paramter validation_data\n",
    "# val_loss : validation loss\n",
    "# val_acc : validation accuracy\n",
    "\n",
    "# loss : training loss\n",
    "# acc : train accuracy\n",
    "# for each key in histrory.histrory we will have a list of length equal to number of epochs\n",
    "\n",
    "vy = history.history['val_loss']\n",
    "ty = history.history['loss']\n",
    "plt_dynamic(x, vy, ty, ax)"
   ]
  },
  {
   "cell_type": "markdown",
   "metadata": {},
   "source": [
    "## 784 - [24C5-P2] - [48C5-P2] - [64C5-P2] - 256 - 10 (0.25 Dropout rate)"
   ]
  },
  {
   "cell_type": "code",
   "execution_count": 10,
   "metadata": {},
   "outputs": [
    {
     "name": "stdout",
     "output_type": "stream",
     "text": [
      "x_train shape: (60000, 28, 28, 1)\n",
      "60000 train samples\n",
      "10000 test samples\n",
      "Train on 60000 samples, validate on 10000 samples\n",
      "Epoch 1/15\n",
      "60000/60000 [==============================] - 45s 753us/step - loss: 0.4735 - acc: 0.8423 - val_loss: 0.0727 - val_acc: 0.9776\n",
      "Epoch 2/15\n",
      "60000/60000 [==============================] - 50s 826us/step - loss: 0.1080 - acc: 0.9680 - val_loss: 0.0421 - val_acc: 0.9862\n",
      "Epoch 3/15\n",
      "60000/60000 [==============================] - 47s 788us/step - loss: 0.0840 - acc: 0.9754 - val_loss: 0.0303 - val_acc: 0.9902\n",
      "Epoch 4/15\n",
      "60000/60000 [==============================] - 45s 745us/step - loss: 0.0686 - acc: 0.9800 - val_loss: 0.0294 - val_acc: 0.9901\n",
      "Epoch 5/15\n",
      "60000/60000 [==============================] - 44s 737us/step - loss: 0.0614 - acc: 0.9819 - val_loss: 0.0250 - val_acc: 0.9923\n",
      "Epoch 6/15\n",
      "60000/60000 [==============================] - 49s 824us/step - loss: 0.0574 - acc: 0.9835 - val_loss: 0.0276 - val_acc: 0.9904\n",
      "Epoch 7/15\n",
      "60000/60000 [==============================] - 45s 746us/step - loss: 0.0543 - acc: 0.9842 - val_loss: 0.0226 - val_acc: 0.9925\n",
      "Epoch 8/15\n",
      "60000/60000 [==============================] - 46s 767us/step - loss: 0.0495 - acc: 0.9853 - val_loss: 0.0228 - val_acc: 0.9928\n",
      "Epoch 9/15\n",
      "60000/60000 [==============================] - 43s 708us/step - loss: 0.0460 - acc: 0.9867 - val_loss: 0.0211 - val_acc: 0.9937\n",
      "Epoch 10/15\n",
      "60000/60000 [==============================] - 42s 699us/step - loss: 0.0455 - acc: 0.9863 - val_loss: 0.0201 - val_acc: 0.9936\n",
      "Epoch 11/15\n",
      "60000/60000 [==============================] - 43s 711us/step - loss: 0.0398 - acc: 0.9884 - val_loss: 0.0225 - val_acc: 0.9930\n",
      "Epoch 12/15\n",
      "60000/60000 [==============================] - 45s 755us/step - loss: 0.0396 - acc: 0.9882 - val_loss: 0.0210 - val_acc: 0.9934\n",
      "Epoch 13/15\n",
      "60000/60000 [==============================] - 45s 744us/step - loss: 0.0391 - acc: 0.9884 - val_loss: 0.0206 - val_acc: 0.9944\n",
      "Epoch 14/15\n",
      "60000/60000 [==============================] - 45s 750us/step - loss: 0.0381 - acc: 0.9896 - val_loss: 0.0211 - val_acc: 0.9933\n",
      "Epoch 15/15\n",
      "60000/60000 [==============================] - 45s 758us/step - loss: 0.0353 - acc: 0.9894 - val_loss: 0.0258 - val_acc: 0.9928\n"
     ]
    }
   ],
   "source": [
    "# Credits: https://github.com/keras-team/keras/blob/master/examples/mnist_cnn.py\n",
    "\n",
    "from __future__ import print_function\n",
    "import keras\n",
    "from keras.datasets import mnist\n",
    "from keras.models import Sequential\n",
    "from keras.layers import Dense, Dropout, Flatten\n",
    "from keras.layers import Conv2D, MaxPooling2D\n",
    "from keras import backend as K\n",
    "\n",
    "batch_size = 128\n",
    "num_classes = 10\n",
    "epochs = 15\n",
    "\n",
    "# input image dimensions\n",
    "img_rows, img_cols = 28, 28\n",
    "\n",
    "# the data, split between train and test sets\n",
    "(x_train, y_train), (x_test, y_test) = mnist.load_data()\n",
    "\n",
    "if K.image_data_format() == 'channels_first':\n",
    "    x_train = x_train.reshape(x_train.shape[0], 1, img_rows, img_cols)\n",
    "    x_test = x_test.reshape(x_test.shape[0], 1, img_rows, img_cols)\n",
    "    input_shape = (1, img_rows, img_cols)\n",
    "else:\n",
    "    x_train = x_train.reshape(x_train.shape[0], img_rows, img_cols, 1)\n",
    "    x_test = x_test.reshape(x_test.shape[0], img_rows, img_cols, 1)\n",
    "    input_shape = (img_rows, img_cols, 1)\n",
    "\n",
    "x_train = x_train.astype('float32')\n",
    "x_test = x_test.astype('float32')\n",
    "x_train /= 255\n",
    "x_test /= 255\n",
    "print('x_train shape:', x_train.shape)\n",
    "print(x_train.shape[0], 'train samples')\n",
    "print(x_test.shape[0], 'test samples')\n",
    "\n",
    "# convert class vectors to binary class matrices\n",
    "y_train = keras.utils.to_categorical(y_train, num_classes)\n",
    "y_test = keras.utils.to_categorical(y_test, num_classes)\n",
    "\n",
    "model = Sequential()\n",
    "model.add(Conv2D(24,kernel_size=5,padding='same',activation='relu',\n",
    "                 input_shape=input_shape))\n",
    "model.add(MaxPooling2D(pool_size=(3, 3)))\n",
    "model.add(Dropout(0.25))\n",
    "model.add(Conv2D(48,kernel_size=5,padding='same',activation='relu'))\n",
    "model.add(MaxPooling2D(pool_size=(3, 3)))\n",
    "model.add(Dropout(0.25))\n",
    "model.add(Conv2D(64,kernel_size=5,padding='same',activation='relu'))\n",
    "model.add(MaxPooling2D(pool_size=(3, 3)))\n",
    "model.add(Dropout(0.25))\n",
    "model.add(Flatten())\n",
    "model.add(Dense(256, activation='relu'))\n",
    "model.add(Dropout(0.25))\n",
    "model.add(Dense(num_classes, activation='softmax'))\n",
    "\n",
    "model.compile(loss=keras.losses.categorical_crossentropy,\n",
    "              optimizer=keras.optimizers.Adadelta(),\n",
    "              metrics=['accuracy'])\n",
    "\n",
    "history = model.fit(x_train, y_train,\n",
    "          batch_size=batch_size,\n",
    "          epochs=epochs,\n",
    "          verbose=1,\n",
    "          validation_data=(x_test, y_test))"
   ]
  },
  {
   "cell_type": "code",
   "execution_count": 11,
   "metadata": {},
   "outputs": [
    {
     "name": "stdout",
     "output_type": "stream",
     "text": [
      "Test score: 0.02579845667253003\n",
      "Test accuracy: 0.9928\n"
     ]
    },
    {
     "data": {
      "image/png": "[encoded data removed]",
      "text/plain": [
       "<Figure size 432x288 with 1 Axes>"
      ]
     },
     "metadata": {},
     "output_type": "display_data"
    }
   ],
   "source": [
    "import matplotlib.pyplot as plt\n",
    "score = model.evaluate(x_test, y_test, verbose=0) \n",
    "print('Test score:', score[0]) \n",
    "print('Test accuracy:', score[1])\n",
    "\n",
    "fig,ax = plt.subplots(1,1)\n",
    "ax.set_xlabel('epoch') ; ax.set_ylabel('Categorical Crossentropy Loss')\n",
    "\n",
    "# list of epoch numbers\n",
    "x = list(range(1,epochs+1))\n",
    "\n",
    "# print(history.history.keys())\n",
    "# dict_keys(['val_loss', 'val_acc', 'loss', 'acc'])\n",
    "# history = model_drop.fit(X_train, Y_train, batch_size=batch_size, epochs=nb_epoch, verbose=1, validation_data=(X_test, Y_test))\n",
    "\n",
    "# we will get val_loss and val_acc only when you pass the paramter validation_data\n",
    "# val_loss : validation loss\n",
    "# val_acc : validation accuracy\n",
    "\n",
    "# loss : training loss\n",
    "# acc : train accuracy\n",
    "# for each key in histrory.histrory we will have a list of length equal to number of epochs\n",
    "\n",
    "vy = history.history['val_loss']\n",
    "ty = history.history['loss']\n",
    "plt_dynamic(x, vy, ty, ax)"
   ]
  },
  {
   "cell_type": "code",
   "execution_count": 12,
   "metadata": {
    "colab": {
     "base_uri": "https://localhost:8080/",
     "height": 285
    },
    "id": "SsJ4fn4LoXbR",
    "outputId": "eaca4fe6-5d68-41ce-8061-c8d5fba59fe9"
   },
   "outputs": [
    {
     "name": "stderr",
     "output_type": "stream",
     "text": [
      "C:\\Users\\venka\\Anaconda3\\lib\\site-packages\\scipy\\stats\\stats.py:1713: FutureWarning: Using a non-tuple sequence for multidimensional indexing is deprecated; use `arr[tuple(seq)]` instead of `arr[seq]`. In the future this will be interpreted as an array index, `arr[np.array(seq)]`, which will result either in an error or a different result.\n",
      "  return np.add.reduce(sorted[indexer] * weights, axis=axis) / sumval\n"
     ]
    },
    {
     "data": {
      "image/png": "[encoded data removed]",
      "text/plain": [
       "<Figure size 432x288 with 3 Axes>"
      ]
     },
     "metadata": {},
     "output_type": "display_data"
    }
   ],
   "source": [
    "import seaborn as sns\n",
    "w_after = model.get_weights()\n",
    "\n",
    "h1_w = w_after[0].flatten().reshape(-1,1)\n",
    "h2_w = w_after[2].flatten().reshape(-1,1)\n",
    "out_w = w_after[4].flatten().reshape(-1,1)\n",
    "\n",
    "\n",
    "fig = plt.figure()\n",
    "plt.title(\"Weight matrices after model trained\")\n",
    "plt.subplot(1, 3, 1)\n",
    "plt.title(\"Trained model Weights\")\n",
    "ax = sns.violinplot(y=h1_w,color='b')\n",
    "plt.xlabel('Hidden Layer 1')\n",
    "\n",
    "plt.subplot(1, 3, 2)\n",
    "plt.title(\"Trained model Weights\")\n",
    "ax = sns.violinplot(y=h2_w, color='r')\n",
    "plt.xlabel('Hidden Layer 2 ')\n",
    "\n",
    "plt.subplot(1, 3, 3)\n",
    "plt.title(\"Trained model Weights\")\n",
    "ax = sns.violinplot(y=out_w,color='y')\n",
    "plt.xlabel('Output Layer ')\n",
    "plt.show()"
   ]
  }
 ],
 "metadata": {
  "colab": {
   "collapsed_sections": [],
   "name": "CNN_MNIST.ipynb",
   "provenance": []
  },
  "kernelspec": {
   "display_name": "Python 3",
   "language": "python",
   "name": "python3"
  },
  "language_info": {
   "codemirror_mode": {
    "name": "ipython",
    "version": 3
   },
   "file_extension": ".py",
   "mimetype": "text/x-python",
   "name": "python",
   "nbconvert_exporter": "python",
   "pygments_lexer": "ipython3",
   "version": "3.6.5"
  }
 },
 "nbformat": 4,
 "nbformat_minor": 1
}
